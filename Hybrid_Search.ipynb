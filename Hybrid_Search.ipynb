{
 "cells": [
  {
   "cell_type": "code",
   "execution_count": 3,
   "id": "6a3b2a01-2788-4808-96fa-4d162fa2dc4d",
   "metadata": {},
   "outputs": [
    {
     "name": "stdout",
     "output_type": "stream",
     "text": [
      "100% [........................................................................] 65406227 / 65406227"
     ]
    },
    {
     "data": {
      "application/vnd.jupyter.widget-view+json": {
       "model_id": "8f71a357721d44b2a84eb7852fb52c2f",
       "version_major": 2,
       "version_minor": 0
      },
      "text/plain": [
       "  0%|          | 0/2 [00:00<?, ?it/s]"
      ]
     },
     "metadata": {},
     "output_type": "display_data"
    },
    {
     "data": {
      "application/vnd.jupyter.widget-view+json": {
       "model_id": "364ada5277264d9cb0308e8c1c138696",
       "version_major": 2,
       "version_minor": 0
      },
      "text/plain": [
       "  0%|          | 0/1 [00:00<?, ?it/s]"
      ]
     },
     "metadata": {},
     "output_type": "display_data"
    },
    {
     "name": "stdout",
     "output_type": "stream",
     "text": [
      "[]\n"
     ]
    }
   ],
   "source": [
    "import os\n",
    "import re\n",
    "from langchain_community.retrievers import PineconeHybridSearchRetriever\n",
    "from pinecone_text.sparse import BM25Encoder\n",
    "from langchain_huggingface import HuggingFaceEmbeddings\n",
    "from pinecone import Pinecone, ServerlessSpec\n",
    "\n",
    "# Preprocess text: normalize whitespace, remove special characters, etc.\n",
    "def preprocess_text(text):\n",
    "    text = re.sub(r'\\s+', ' ', text)  # Normalize spaces\n",
    "    text = re.sub(r'[^\\w\\s]', '', text)  # Remove special characters\n",
    "    return text.strip()\n",
    "\n",
    "# Set up Pinecone\n",
    "api_key = \"pcsk_....\"  # Replace with your Pinecone API key\n",
    "index_name = \"hybrid-search-langchain-pinecone\"\n",
    "pc = Pinecone(api_key=api_key)\n",
    "\n",
    "# Recreate index if it exists to ensure a clean state\n",
    "if index_name in pc.list_indexes().names():\n",
    "    pc.delete_index(index_name)\n",
    "\n",
    "pc.create_index(\n",
    "    name=index_name,\n",
    "    dimension=384,\n",
    "    metric='dotproduct',\n",
    "    spec=ServerlessSpec(cloud='aws', region='us-east-1')\n",
    ")\n",
    "index = pc.Index(index_name)\n",
    "\n",
    "# Set up HuggingFace embeddings\n",
    "os.environ['HF_TOKEN'] = \"hf_.....\"  # Replace with your Hugging Face token\n",
    "embeddings = HuggingFaceEmbeddings(model_name=\"all-MiniLM-L6-v2\")\n",
    "\n",
    "# Set up BM25 sparse encoder\n",
    "bm25_encoder = BM25Encoder().default()\n",
    "\n",
    "# Load text files from a folder\n",
    "folder_path = \"New folder/\"  # Replace with the path to your folder\n",
    "texts = []\n",
    "\n",
    "for file_name in os.listdir(folder_path):\n",
    "    file_path = os.path.join(folder_path, file_name)\n",
    "    if os.path.isfile(file_path) and file_name.endswith(\".txt\"):\n",
    "        with open(file_path, 'r', encoding='utf-8') as f:\n",
    "            raw_text = f.read()\n",
    "            processed_text = preprocess_text(raw_text)\n",
    "            if processed_text:  # Ensure non-empty text\n",
    "                texts.append(processed_text)\n",
    "\n",
    "# Fit the BM25 encoder on the processed texts\n",
    "bm25_encoder.fit(texts)\n",
    "bm25_encoder.dump('bm25_values.json')  # Save for reproducibility\n",
    "bm25_encoder = BM25Encoder().load(\"bm25_values.json\")\n",
    "\n",
    "# Validate sparse encoding and filter valid texts\n",
    "valid_texts = []\n",
    "for text in texts:\n",
    "    sparse_vector = bm25_encoder.encode_documents(text)\n",
    "    if sparse_vector[\"indices\"]:  # Check for valid sparse representation\n",
    "        valid_texts.append(text)\n",
    "    else:\n",
    "        print(f\"Skipping invalid text: {text}\")\n",
    "\n",
    "# Create the PineconeHybridSearchRetriever\n",
    "retriever = PineconeHybridSearchRetriever(embeddings=embeddings, sparse_encoder=bm25_encoder, index=index)\n",
    "\n",
    "# Add valid texts to the retriever\n",
    "retriever.add_texts(valid_texts)\n",
    "\n",
    "# Query the retriever\n",
    "query = \"What genre was her novel?\"\n",
    "result = retriever.invoke(query)\n",
    "print(result)\n"
   ]
  },
  {
   "cell_type": "code",
   "execution_count": 7,
   "id": "f65c5d8c-cbb7-4465-a419-0d6124f24df8",
   "metadata": {},
   "outputs": [
    {
     "name": "stdout",
     "output_type": "stream",
     "text": [
      "[Document(metadata={'score': 0.601547}, page_content='Sports 1 Football is the most popular sport in the world 2 The Olympics showcase talent from various countries 3 Cricket is widely followed in countries like India Australia and England 4 Serena Williams is considered one of the greatest tennis players of all time'), Document(metadata={'score': 0.021081198}, page_content='Novels 1 Pride and Prejudice by Jane Austen is a classic romantic novel 2 George Orwells 1984 explores the dangers of totalitarianism 3 JK Rowlings Harry Potter series is beloved by readers of all ages 4 The Great Gatsby by F Scott Fitzgerald captures the essence of the Jazz Age')]\n"
     ]
    }
   ],
   "source": [
    "query = \"Sports\"\n",
    "result = retriever.invoke(query)\n",
    "print(result)"
   ]
  },
  {
   "cell_type": "code",
   "execution_count": 9,
   "id": "310bc72f-aac2-417d-9fee-701eace13d01",
   "metadata": {},
   "outputs": [
    {
     "name": "stdout",
     "output_type": "stream",
     "text": [
      "[Document(metadata={'score': 0.259504795}, page_content='Novels 1 Pride and Prejudice by Jane Austen is a classic romantic novel 2 George Orwells 1984 explores the dangers of totalitarianism 3 JK Rowlings Harry Potter series is beloved by readers of all ages 4 The Great Gatsby by F Scott Fitzgerald captures the essence of the Jazz Age'), Document(metadata={'score': 0.0529573895}, page_content='Sports 1 Football is the most popular sport in the world 2 The Olympics showcase talent from various countries 3 Cricket is widely followed in countries like India Australia and England 4 Serena Williams is considered one of the greatest tennis players of all time')]\n"
     ]
    }
   ],
   "source": [
    "query = \"What books are mentioned\"\n",
    "result = retriever.invoke(query)\n",
    "print(result)"
   ]
  },
  {
   "cell_type": "code",
   "execution_count": null,
   "id": "21865abf-8769-4fde-b5ea-4b9dcb6ebda7",
   "metadata": {},
   "outputs": [],
   "source": []
  }
 ],
 "metadata": {
  "kernelspec": {
   "display_name": "Python 3 (ipykernel)",
   "language": "python",
   "name": "python3"
  },
  "language_info": {
   "codemirror_mode": {
    "name": "ipython",
    "version": 3
   },
   "file_extension": ".py",
   "mimetype": "text/x-python",
   "name": "python",
   "nbconvert_exporter": "python",
   "pygments_lexer": "ipython3",
   "version": "3.12.7"
  }
 },
 "nbformat": 4,
 "nbformat_minor": 5
}
